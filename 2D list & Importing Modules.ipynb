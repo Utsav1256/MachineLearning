{
 "cells": [
  {
   "cell_type": "markdown",
   "id": "0966a9aa",
   "metadata": {},
   "source": [
    "## 2D list\n"
   ]
  },
  {
   "cell_type": "code",
   "execution_count": 8,
   "id": "d1e412a2",
   "metadata": {},
   "outputs": [
    {
     "name": "stdout",
     "output_type": "stream",
     "text": [
      "1.2\n",
      "[1, 2.1]\n",
      "1\n",
      "2.1\n",
      "[3, 'Bee', False]\n",
      "False\n"
     ]
    }
   ],
   "source": [
    "list = [1, 1.2, \"Jai\", True]\n",
    "list = [1.2, [1, 2.1], [3, \"Bee\", False]]\n",
    "print(list[0])\n",
    "print(list[1])\n",
    "print(list[1][0])\n",
    "print(list[1][1])\n",
    "print(list[2])\n",
    "print(list[2][2])\n"
   ]
  },
  {
   "cell_type": "code",
   "execution_count": 10,
   "id": "82b98e9e",
   "metadata": {},
   "outputs": [
    {
     "name": "stdout",
     "output_type": "stream",
     "text": [
      "[0, 1, 2, 3, 4, 5, 6, 7, 8, 9]\n"
     ]
    }
   ],
   "source": [
    "list1D = [i for i in range(10)]\n",
    "print(list1D) inside the outerList"
   ]
  },
  {
   "cell_type": "code",
   "execution_count": 14,
   "id": "8db2a5fb",
   "metadata": {},
   "outputs": [
    {
     "name": "stdout",
     "output_type": "stream",
     "text": [
      "[[1, 2, 3], [1, 2, 3], [1, 2, 3], [1, 2, 3], [1, 2, 3], [1, 2, 3], [1, 2, 3], [1, 2, 3], [1, 2, 3], [1, 2, 3]]\n",
      "[[0, 1, 2, 3, 4], [0, 1, 2, 3, 4], [0, 1, 2, 3, 4], [0, 1, 2, 3, 4], [0, 1, 2, 3, 4], [0, 1, 2, 3, 4], [0, 1, 2, 3, 4], [0, 1, 2, 3, 4], [0, 1, 2, 3, 4], [0, 1, 2, 3, 4]]\n",
      "[[0, 0, 0, 0, 0], [0, 1, 2, 3, 4], [0, 2, 4, 6, 8], [0, 3, 6, 9, 12], [0, 4, 8, 12, 16], [0, 5, 10, 15, 20], [0, 6, 12, 18, 24], [0, 7, 14, 21, 28], [0, 8, 16, 24, 32], [0, 9, 18, 27, 36]]\n"
     ]
    }
   ],
   "source": [
    "#2D list\n",
    "list2D = [[1, 2, 3] for i in range(10)]  # it will run from 0 to 9 and for every value of 'i' we are adding '[1,2,3]' inside the outerList\n",
    "print(list2D)\n",
    "\n",
    "list2D1 =[[j for j in range(5)] for i in range(10)]\n",
    "print(list2D1)\n",
    "list2D2 =[[i*j for j in range(5)] for i in range(10)]\n",
    "print(list2D2)"
   ]
  },
  {
   "cell_type": "markdown",
   "id": "52d1ab89",
   "metadata": {},
   "source": [
    "\n",
    "## Importing Module"
   ]
  },
  {
   "cell_type": "code",
   "execution_count": 15,
   "id": "891e0a87",
   "metadata": {},
   "outputs": [],
   "source": [
    "# import module_name\n",
    "# import module_name as md\n",
    "\n",
    "# from x import y"
   ]
  },
  {
   "cell_type": "code",
   "execution_count": 21,
   "id": "520dbcf3",
   "metadata": {},
   "outputs": [
    {
     "name": "stdout",
     "output_type": "stream",
     "text": [
      "3.872983346207417\n"
     ]
    }
   ],
   "source": [
    "# import math\n",
    "import math as m\n",
    "# print(math.sqrt(15))\n",
    "print(m.sqrt(15))\n"
   ]
  }
 ],
 "metadata": {
  "kernelspec": {
   "display_name": "Python 3 (ipykernel)",
   "language": "python",
   "name": "python3"
  },
  "language_info": {
   "codemirror_mode": {
    "name": "ipython",
    "version": 3
   },
   "file_extension": ".py",
   "mimetype": "text/x-python",
   "name": "python",
   "nbconvert_exporter": "python",
   "pygments_lexer": "ipython3",
   "version": "3.10.9"
  }
 },
 "nbformat": 4,
 "nbformat_minor": 5
}
