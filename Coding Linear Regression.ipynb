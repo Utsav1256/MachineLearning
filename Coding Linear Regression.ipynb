{
 "cells": [
  {
   "cell_type": "markdown",
   "id": "5c50ed68",
   "metadata": {},
   "source": [
    "# Linear Regression"
   ]
  },
  {
   "cell_type": "code",
   "execution_count": 1,
   "id": "60e09319",
   "metadata": {},
   "outputs": [],
   "source": [
    "import numpy as np"
   ]
  },
  {
   "cell_type": "code",
   "execution_count": 2,
   "id": "43fba4e1",
   "metadata": {},
   "outputs": [],
   "source": [
    "data = np.loadtxt(\"Datasets/data.csv\", delimiter=\",\")"
   ]
  },
  {
   "cell_type": "code",
   "execution_count": 3,
   "id": "c5a56822",
   "metadata": {},
   "outputs": [],
   "source": [
    "x = data[:, 0] \n",
    "#  we are writing our algorithm for 1D array only\n",
    "# but the internal algorithm which is written requires 2D array\n",
    "# but in our case we are just going to write code for 1D array\n",
    "y = data[:, 1]"
   ]
  },
  {
   "cell_type": "code",
   "execution_count": 4,
   "id": "46f0c13e",
   "metadata": {},
   "outputs": [
    {
     "name": "stdout",
     "output_type": "stream",
     "text": [
      "(100,)\n",
      "(100,)\n"
     ]
    }
   ],
   "source": [
    "print(x.shape)\n",
    "print(y.shape)"
   ]
  },
  {
   "cell_type": "code",
   "execution_count": 5,
   "id": "3ff71df9",
   "metadata": {},
   "outputs": [
    {
     "name": "stdout",
     "output_type": "stream",
     "text": [
      "(70,)\n",
      "(70,)\n"
     ]
    }
   ],
   "source": [
    "# spliting into training and testing\n",
    "from sklearn import model_selection\n",
    "X_train, X_test, Y_train, Y_test = model_selection.train_test_split(x, y, test_size=0.3)\n",
    "# if you want ssize of the test to be something else not 25%\n",
    "# you can  pass an argument called text_size=value\n",
    "# value is a franction b/w 0 to 1\n",
    "# by default the value is 0.25 (i.e. 25%)\n",
    "print(X_train.shape)\n",
    "print(Y_train.shape)"
   ]
  },
  {
   "cell_type": "code",
   "execution_count": 6,
   "id": "8a489925",
   "metadata": {},
   "outputs": [],
   "source": [
    "# writing a fit function so that we can pass the training data to the fit function so that the fn. can give us m & c values\n",
    "def fit(x_train, y_train): \n",
    "    numerator = (x_train * y_train).mean() - x_train.mean() * y_train.mean()\n",
    "    denominator = (x_train**2).mean() - (x_train.mean()**2)\n",
    "    m = numerator / denominator\n",
    "    c = y_train.mean() - m * x_train.mean()\n",
    "    return m, c"
   ]
  },
  {
   "cell_type": "code",
   "execution_count": 7,
   "id": "f09f6511",
   "metadata": {},
   "outputs": [],
   "source": [
    "# writing prediction function for testing data or training data\n",
    "def predict(x, m, c):\n",
    "     return m * x + c\n",
    "# x can be X_test or Y_test"
   ]
  },
  {
   "cell_type": "code",
   "execution_count": 8,
   "id": "7afdcc73",
   "metadata": {},
   "outputs": [],
   "source": [
    "# writing score function (coeficient of determination)\n",
    "def score(y_truth, y_predicted):\n",
    "    u = ((y_truth - y_predicted)**2).sum()\n",
    "    v = ((y_truth - y_truth.mean())**2).sum()\n",
    "    return 1 - (u/v)\n",
    "# y_truth & y_predicted can be y_test_truth & y_test_predicted or y_train_truth & y_train_predicted"
   ]
  },
  {
   "cell_type": "code",
   "execution_count": 9,
   "id": "4d7ba6b6",
   "metadata": {},
   "outputs": [],
   "source": [
    "# writing cost function\n",
    "def cost(x, y, m, c):\n",
    "    return ((y - (m * x + c))**2).mean()"
   ]
  },
  {
   "cell_type": "code",
   "execution_count": 10,
   "id": "c4c749b1",
   "metadata": {},
   "outputs": [],
   "source": [
    "m, c = fit(X_train, Y_train)"
   ]
  },
  {
   "cell_type": "code",
   "execution_count": 11,
   "id": "554da2b7",
   "metadata": {},
   "outputs": [],
   "source": [
    "# predicting on testing data\n",
    "y_test_predicted = predict(X_test, m, c)"
   ]
  },
  {
   "cell_type": "code",
   "execution_count": 12,
   "id": "bd925b1b",
   "metadata": {},
   "outputs": [],
   "source": [
    "# predicting on training data\n",
    "y_train_predicted = predict(X_train, m, c)"
   ]
  },
  {
   "cell_type": "code",
   "execution_count": 13,
   "id": "1789c45a",
   "metadata": {},
   "outputs": [
    {
     "name": "stdout",
     "output_type": "stream",
     "text": [
      "Test score:  0.5535606457097704\n",
      "Train score:  0.611443107430611\n",
      "m, c 1.3497728143102237 7.289891082083074\n",
      "Cost on training data:  113.51885767739448\n",
      "Cost on training data:  2543.3043789381354\n"
     ]
    }
   ],
   "source": [
    "print(\"Test score: \", score(Y_test, y_test_predicted))\n",
    "print(\"Train score: \", score(Y_train, y_train_predicted))\n",
    "print(\"m, c\", m, c)\n",
    "print(\"Cost on training data: \", cost(X_train, Y_train, m, c))\n",
    "# the value m & c that's where the cost function is minimized\n",
    "print(\"Cost on training data: \", cost(X_train, Y_train, m+1, c))\n",
    "# so any variation or change in m & c will lead to higher cost function"
   ]
  },
  {
   "cell_type": "markdown",
   "id": "a6972ca9",
   "metadata": {},
   "source": [
    "## Compairing with inbuild Linear Regression"
   ]
  },
  {
   "cell_type": "code",
   "execution_count": 14,
   "id": "2c7f6700",
   "metadata": {},
   "outputs": [
    {
     "data": {
      "text/html": [
       "<style>#sk-container-id-1 {color: black;background-color: white;}#sk-container-id-1 pre{padding: 0;}#sk-container-id-1 div.sk-toggleable {background-color: white;}#sk-container-id-1 label.sk-toggleable__label {cursor: pointer;display: block;width: 100%;margin-bottom: 0;padding: 0.3em;box-sizing: border-box;text-align: center;}#sk-container-id-1 label.sk-toggleable__label-arrow:before {content: \"▸\";float: left;margin-right: 0.25em;color: #696969;}#sk-container-id-1 label.sk-toggleable__label-arrow:hover:before {color: black;}#sk-container-id-1 div.sk-estimator:hover label.sk-toggleable__label-arrow:before {color: black;}#sk-container-id-1 div.sk-toggleable__content {max-height: 0;max-width: 0;overflow: hidden;text-align: left;background-color: #f0f8ff;}#sk-container-id-1 div.sk-toggleable__content pre {margin: 0.2em;color: black;border-radius: 0.25em;background-color: #f0f8ff;}#sk-container-id-1 input.sk-toggleable__control:checked~div.sk-toggleable__content {max-height: 200px;max-width: 100%;overflow: auto;}#sk-container-id-1 input.sk-toggleable__control:checked~label.sk-toggleable__label-arrow:before {content: \"▾\";}#sk-container-id-1 div.sk-estimator input.sk-toggleable__control:checked~label.sk-toggleable__label {background-color: #d4ebff;}#sk-container-id-1 div.sk-label input.sk-toggleable__control:checked~label.sk-toggleable__label {background-color: #d4ebff;}#sk-container-id-1 input.sk-hidden--visually {border: 0;clip: rect(1px 1px 1px 1px);clip: rect(1px, 1px, 1px, 1px);height: 1px;margin: -1px;overflow: hidden;padding: 0;position: absolute;width: 1px;}#sk-container-id-1 div.sk-estimator {font-family: monospace;background-color: #f0f8ff;border: 1px dotted black;border-radius: 0.25em;box-sizing: border-box;margin-bottom: 0.5em;}#sk-container-id-1 div.sk-estimator:hover {background-color: #d4ebff;}#sk-container-id-1 div.sk-parallel-item::after {content: \"\";width: 100%;border-bottom: 1px solid gray;flex-grow: 1;}#sk-container-id-1 div.sk-label:hover label.sk-toggleable__label {background-color: #d4ebff;}#sk-container-id-1 div.sk-serial::before {content: \"\";position: absolute;border-left: 1px solid gray;box-sizing: border-box;top: 0;bottom: 0;left: 50%;z-index: 0;}#sk-container-id-1 div.sk-serial {display: flex;flex-direction: column;align-items: center;background-color: white;padding-right: 0.2em;padding-left: 0.2em;position: relative;}#sk-container-id-1 div.sk-item {position: relative;z-index: 1;}#sk-container-id-1 div.sk-parallel {display: flex;align-items: stretch;justify-content: center;background-color: white;position: relative;}#sk-container-id-1 div.sk-item::before, #sk-container-id-1 div.sk-parallel-item::before {content: \"\";position: absolute;border-left: 1px solid gray;box-sizing: border-box;top: 0;bottom: 0;left: 50%;z-index: -1;}#sk-container-id-1 div.sk-parallel-item {display: flex;flex-direction: column;z-index: 1;position: relative;background-color: white;}#sk-container-id-1 div.sk-parallel-item:first-child::after {align-self: flex-end;width: 50%;}#sk-container-id-1 div.sk-parallel-item:last-child::after {align-self: flex-start;width: 50%;}#sk-container-id-1 div.sk-parallel-item:only-child::after {width: 0;}#sk-container-id-1 div.sk-dashed-wrapped {border: 1px dashed gray;margin: 0 0.4em 0.5em 0.4em;box-sizing: border-box;padding-bottom: 0.4em;background-color: white;}#sk-container-id-1 div.sk-label label {font-family: monospace;font-weight: bold;display: inline-block;line-height: 1.2em;}#sk-container-id-1 div.sk-label-container {text-align: center;}#sk-container-id-1 div.sk-container {/* jupyter's `normalize.less` sets `[hidden] { display: none; }` but bootstrap.min.css set `[hidden] { display: none !important; }` so we also need the `!important` here to be able to override the default hidden behavior on the sphinx rendered scikit-learn.org. See: https://github.com/scikit-learn/scikit-learn/issues/21755 */display: inline-block !important;position: relative;}#sk-container-id-1 div.sk-text-repr-fallback {display: none;}</style><div id=\"sk-container-id-1\" class=\"sk-top-container\"><div class=\"sk-text-repr-fallback\"><pre>LinearRegression()</pre><b>In a Jupyter environment, please rerun this cell to show the HTML representation or trust the notebook. <br />On GitHub, the HTML representation is unable to render, please try loading this page with nbviewer.org.</b></div><div class=\"sk-container\" hidden><div class=\"sk-item\"><div class=\"sk-estimator sk-toggleable\"><input class=\"sk-toggleable__control sk-hidden--visually\" id=\"sk-estimator-id-1\" type=\"checkbox\" checked><label for=\"sk-estimator-id-1\" class=\"sk-toggleable__label sk-toggleable__label-arrow\">LinearRegression</label><div class=\"sk-toggleable__content\"><pre>LinearRegression()</pre></div></div></div></div></div>"
      ],
      "text/plain": [
       "LinearRegression()"
      ]
     },
     "execution_count": 14,
     "metadata": {},
     "output_type": "execute_result"
    }
   ],
   "source": [
    "from sklearn.linear_model import LinearRegression\n",
    "algorithm = LinearRegression()\n",
    "X_train = X_train.reshape(-1, 1)\n",
    "X_test = X_test.reshape(-1, 1)\n",
    "algorithm.fit(X_train, Y_train)"
   ]
  },
  {
   "cell_type": "code",
   "execution_count": 15,
   "id": "c62512fe",
   "metadata": {},
   "outputs": [
    {
     "name": "stdout",
     "output_type": "stream",
     "text": [
      "Test score:  0.5535606457097711\n",
      "Train score:  0.611443107430611\n",
      "m, c 1.3497728143102148 7.2898910820835\n",
      "Cost on training data:  470.79123872437066\n",
      "Cost on training data:  3165.2675118354914\n"
     ]
    }
   ],
   "source": [
    "print(\"Test score: \", algorithm.score(X_test, Y_test))\n",
    "print(\"Train score: \", algorithm.score(X_train, Y_train))\n",
    "print(\"m, c\", algorithm.coef_[0], algorithm.intercept_)\n",
    "print(\"Cost on training data: \", cost(X_train, Y_train, m, c))\n",
    "print(\"Cost on training data: \", cost(X_train, Y_train, m+1, c))"
   ]
  }
 ],
 "metadata": {
  "kernelspec": {
   "display_name": "Python 3 (ipykernel)",
   "language": "python",
   "name": "python3"
  },
  "language_info": {
   "codemirror_mode": {
    "name": "ipython",
    "version": 3
   },
   "file_extension": ".py",
   "mimetype": "text/x-python",
   "name": "python",
   "nbconvert_exporter": "python",
   "pygments_lexer": "ipython3",
   "version": "3.10.9"
  }
 },
 "nbformat": 4,
 "nbformat_minor": 5
}
