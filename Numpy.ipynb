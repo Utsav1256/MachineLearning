{
 "cells": [
  {
   "cell_type": "markdown",
   "id": "ecc913f3",
   "metadata": {},
   "source": [
    "## Numpy"
   ]
  },
  {
   "cell_type": "code",
   "execution_count": 10,
   "id": "17d9133b",
   "metadata": {},
   "outputs": [
    {
     "name": "stdout",
     "output_type": "stream",
     "text": [
      "[17, ' ', 81]\n"
     ]
    }
   ],
   "source": [
    "list = [17, \" \", [  ]]\n",
    "list[2] = 81\n",
    "print(list)"
   ]
  },
  {
   "cell_type": "code",
   "execution_count": 16,
   "id": "f6470851",
   "metadata": {},
   "outputs": [
    {
     "name": "stdout",
     "output_type": "stream",
     "text": [
      "int32\n",
      "[1 2 3 4]\n"
     ]
    }
   ],
   "source": [
    "import numpy as np\n",
    "\n",
    "list = [1, 2, 3, 4]\n",
    "list1 = np.array(list)\n",
    "print(list1.dtype)\n",
    "print(list1)"
   ]
  },
  {
   "cell_type": "code",
   "execution_count": 24,
   "id": "b3fbff0e",
   "metadata": {
    "scrolled": true
   },
   "outputs": [
    {
     "name": "stdout",
     "output_type": "stream",
     "text": [
      "[0. 0. 0. 0. 0. 0. 0. 0.]\n",
      "float64\n",
      "[0 0 0 0 0 0 0 0]\n",
      "int32\n",
      "[1. 1. 1. 1. 1. 1. 1.]\n",
      "float64\n",
      "['1' '1' '1' '1' '1' '1' '1']\n",
      "<U1\n"
     ]
    }
   ],
   "source": [
    "# some helper functions\n",
    "x = np.zeros(8)\n",
    "print(x)\n",
    "print(x.dtype)\n",
    "x1 = np.zeros(8, int)\n",
    "print(x1)\n",
    "print(x1.dtype)\n",
    "\n",
    "y = np.ones(7)\n",
    "print(y)\n",
    "print(y.dtype)\n",
    "y1 = np.ones(7, str)\n",
    "print(y1)\n",
    "print(y1.dtype)\n"
   ]
  },
  {
   "cell_type": "code",
   "execution_count": 28,
   "id": "b18802be",
   "metadata": {},
   "outputs": [
    {
     "name": "stdout",
     "output_type": "stream",
     "text": [
      "[0 3 0 0 0 0 0 0]\n"
     ]
    }
   ],
   "source": [
    "x1[1] = '3'\n",
    "print(x1)\n",
    "# x1[2] = \"oops\""
   ]
  },
  {
   "cell_type": "code",
   "execution_count": 35,
   "id": "cde026d5",
   "metadata": {
    "scrolled": true
   },
   "outputs": [
    {
     "name": "stdout",
     "output_type": "stream",
     "text": [
      "[[0 0 0 0]\n",
      " [0 0 0 0]\n",
      " [0 0 0 0]]\n",
      "[[[0 0]\n",
      "  [0 0]\n",
      "  [0 0]\n",
      "  [0 0]]\n",
      "\n",
      " [[0 0]\n",
      "  [0 0]\n",
      "  [0 0]\n",
      "  [0 0]]\n",
      "\n",
      " [[0 0]\n",
      "  [0 0]\n",
      "  [0 0]\n",
      "  [0 0]]]\n"
     ]
    }
   ],
   "source": [
    "# creating multidimensional array\n",
    "x2 = np.zeros((3, 4), int)\n",
    "print(x2)\n",
    "x3 = np.zeros((3, 4, 2), int)\n",
    "print(x3)\n"
   ]
  },
  {
   "cell_type": "code",
   "execution_count": 52,
   "id": "2ad2f7e2",
   "metadata": {
    "scrolled": true
   },
   "outputs": [
    {
     "name": "stdout",
     "output_type": "stream",
     "text": [
      "[[17  2]\n",
      " [14 10]\n",
      " [24 22]]\n",
      "[[[40 32 45 39]]\n",
      "\n",
      " [[33 41 41 27]]]\n",
      "2\n",
      "24\n",
      "41\n",
      "[17 14 24]\n",
      "[ 2 10]\n",
      "[[32 45]\n",
      " [41 41]]\n",
      "(3, 2)\n",
      "(2, 1, 4)\n"
     ]
    }
   ],
   "source": [
    "# Accessing Data\n",
    "ran1 = np.random.randint(0, 25, (3, 2))\n",
    "print(ran1)\n",
    "ran2 = np.random.randint(25, 50, (2, 1, 4))\n",
    "print(ran2)\n",
    "\n",
    "print(ran1[0][1])\n",
    "print(ran1[2][0])\n",
    "\n",
    "print(ran2[1][0][2])\n",
    "\n",
    "print(ran1[:, 0])\n",
    "print(ran1[0:2, 1])\n",
    "print(ran2[:, 0, 1:3])\n",
    "\n",
    "print(ran1.shape)\n",
    "print(ran2.shape)"
   ]
  },
  {
   "cell_type": "code",
   "execution_count": 61,
   "id": "0c72d618",
   "metadata": {},
   "outputs": [
    {
     "name": "stdout",
     "output_type": "stream",
     "text": [
      "[3 4 5 6 7]\n",
      "[ 7  9 11 13 15]\n",
      "[ 2  4  6  8 10]\n",
      "[ 6 14 24 36 50]\n",
      "[ 1  4  9 16 25]\n",
      "[      1     128    6561  262144 9765625]\n",
      "15\n",
      "3.0\n"
     ]
    }
   ],
   "source": [
    "# numpy operations\n",
    "o1 = np.array([1, 2, 3, 4, 5])\n",
    "o2 = np.array([6, 7, 8, 9, 10])\n",
    "print(o1 + 2)\n",
    "print(o1 + o2)\n",
    "print(o1 * 2)\n",
    "print(o1 * o2)\n",
    "print(o1 ** 2)\n",
    "print(o1 ** o2)\n",
    "\n",
    "print(o1.sum())\n",
    "print(o1.mean())"
   ]
  }
 ],
 "metadata": {
  "kernelspec": {
   "display_name": "Python 3 (ipykernel)",
   "language": "python",
   "name": "python3"
  },
  "language_info": {
   "codemirror_mode": {
    "name": "ipython",
    "version": 3
   },
   "file_extension": ".py",
   "mimetype": "text/x-python",
   "name": "python",
   "nbconvert_exporter": "python",
   "pygments_lexer": "ipython3",
   "version": "3.10.9"
  }
 },
 "nbformat": 4,
 "nbformat_minor": 5
}
