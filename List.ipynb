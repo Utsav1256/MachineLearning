{
 "cells": [
  {
   "cell_type": "markdown",
   "id": "a1661f1e",
   "metadata": {},
   "source": [
    "# List (aka Array)"
   ]
  },
  {
   "cell_type": "code",
   "execution_count": 1,
   "id": "cee6b643",
   "metadata": {},
   "outputs": [
    {
     "name": "stdout",
     "output_type": "stream",
     "text": [
      "['Hey!', 'Light', 64, 6.4]\n",
      "<class 'list'>\n",
      "[]\n",
      "['Hey!', 'Light', 64, 6.4]\n",
      "[1, 2, 3]\n",
      "['Hey!', 'Light', 64, 6.4]\n",
      "['Ben', 'Ben', 'Ben', 'Ben', 'Ben', 'Ben', 'Ben', 'Ben', 'Ben', 'Ben']\n",
      "[0, 1, 2, 3, 4, 5, 6, 7, 8, 9]\n",
      "[0, 1, 4, 9, 16, 25, 36, 49, 64, 81]\n"
     ]
    }
   ],
   "source": [
    "# List :-\n",
    "# Why we need Lists(aka Arrays)??\n",
    "# we need lists to store multiple data elements in one place\n",
    "# Tuples also do the same thing, but the problem is tupples are immutable (cannot be modified)\n",
    "\n",
    "# Declarations :-\n",
    "# 1st method :\n",
    "ourList = ['Hey!', 'Light', 64, 6.4]\n",
    "print(ourList)\n",
    "print(type(ourList))\n",
    "\n",
    "# 2nd method :\n",
    "x = list() # to create an empty list\n",
    "print(x)\n",
    "\n",
    "# 3rd method :\n",
    "x1 = list(ourList)\n",
    "print(x1)\n",
    "# ourList & x1, are not exactly same,  they are two different lists :)\n",
    "\n",
    "x2 = list([1, 2, 3])\n",
    "print(x2)\n",
    "\n",
    "x3 = x1\n",
    "print(x3)\n",
    "\n",
    "# 4th method :\n",
    "x4 = ['Ben' for i in range(10)]\n",
    "print(x4)\n",
    "\n",
    "x5 = [i for i in range(10)]\n",
    "print(x5)\n",
    "\n",
    "x6 = [i*i for i in range(10)]\n",
    "print(x6)\n",
    "\n"
   ]
  },
  {
   "cell_type": "code",
   "execution_count": 2,
   "id": "78b38527",
   "metadata": {},
   "outputs": [
    {
     "name": "stdout",
     "output_type": "stream",
     "text": [
      "Light\n",
      "64\n",
      "64\n",
      "['Hey!', 'Light', 64]\n",
      "['Hey!', 'Light', 64, 6.4]\n",
      "['Hey!', 'Light', 64]\n"
     ]
    }
   ],
   "source": [
    "# How to access data ??\n",
    "print(x1[1])\n",
    "print(x1[2])\n",
    "print(x1[-2])\n",
    "print(x1[0:3]) # start to end-1\n",
    "print(x1)\n",
    "x7 =x1[0:3] # it will give us a new list\n",
    "print(x7)"
   ]
  },
  {
   "cell_type": "code",
   "execution_count": 3,
   "id": "52a1836e",
   "metadata": {},
   "outputs": [
    {
     "name": "stdout",
     "output_type": "stream",
     "text": [
      "Hey!\n",
      "Hey! Light\n",
      "Light 64\n",
      "64 6.4\n",
      "6.4 "
     ]
    }
   ],
   "source": [
    "# fast iteration\n",
    "\n",
    "for i in ourList:\n",
    "    print(i)\n",
    "    print(i, end= \" \")"
   ]
  },
  {
   "cell_type": "code",
   "execution_count": 4,
   "id": "4813d33c",
   "metadata": {},
   "outputs": [
    {
     "name": "stdout",
     "output_type": "stream",
     "text": [
      "<class 'list'>\n",
      "1 2 3\n",
      "1 2 3\n",
      "<class 'str'>\n"
     ]
    }
   ],
   "source": [
    "p = []\n",
    "print(type(p))\n",
    "p = input()\n",
    "print(p)\n",
    "print(type(p))"
   ]
  },
  {
   "cell_type": "code",
   "execution_count": 5,
   "id": "8eb65291",
   "metadata": {},
   "outputs": [
    {
     "name": "stdout",
     "output_type": "stream",
     "text": [
      "['a', 'boy', 'and', 'a', 'girl']\n",
      "['a', 'boy', 'and', 'a', 'girl']\n",
      "1 2 3\n",
      "['1', '2', '3']\n"
     ]
    },
    {
     "data": {
      "text/plain": [
       "list"
      ]
     },
     "execution_count": 5,
     "metadata": {},
     "output_type": "execute_result"
    }
   ],
   "source": [
    "str = 'a boy and a girl'\n",
    "a = str.split(\" \")\n",
    "print(a)\n",
    "str = 'a,boy,and,a,girl'\n",
    "a = str.split(\",\")\n",
    "print(a)\n",
    "str= ' 1 2 3 '\n",
    "a = str.strip()\n",
    "print(a)\n",
    "a = a.split(\" \") \n",
    "print(a)\n",
    "type(a)"
   ]
  },
  {
   "cell_type": "code",
   "execution_count": 6,
   "id": "54eb590f",
   "metadata": {},
   "outputs": [
    {
     "name": "stdout",
     "output_type": "stream",
     "text": [
      " 1 2 3 4 \n",
      "1 2 3 4\n",
      "['1', '2', '3', '4']\n"
     ]
    }
   ],
   "source": [
    "str = input().strip()\n",
    "print(str) \n",
    "list = str.split(' ')\n",
    "print(list)"
   ]
  },
  {
   "cell_type": "code",
   "execution_count": 7,
   "id": "212a46b2",
   "metadata": {},
   "outputs": [
    {
     "name": "stdout",
     "output_type": "stream",
     "text": [
      "1 2 3 \n",
      "['1', '2', '3']\n"
     ]
    }
   ],
   "source": [
    "list1 = input().strip().split(' ')\n",
    "print(list1)"
   ]
  },
  {
   "cell_type": "code",
   "execution_count": 8,
   "id": "7c43c4d2",
   "metadata": {},
   "outputs": [
    {
     "name": "stdout",
     "output_type": "stream",
     "text": [
      "3\n"
     ]
    }
   ],
   "source": [
    "print(len(list1))"
   ]
  },
  {
   "cell_type": "code",
   "execution_count": 9,
   "id": "40b9efd0",
   "metadata": {},
   "outputs": [
    {
     "name": "stdout",
     "output_type": "stream",
     "text": [
      "[1, 2, 3, 4]\n"
     ]
    }
   ],
   "source": [
    "for i in range(0, len(list)):\n",
    "    list[i] = int(list[i])\n",
    "print(list)"
   ]
  },
  {
   "cell_type": "code",
   "execution_count": 18,
   "id": "61f155e4",
   "metadata": {},
   "outputs": [
    {
     "name": "stdout",
     "output_type": "stream",
     "text": [
      "['IT', 'CSE']\n"
     ]
    }
   ],
   "source": [
    "info = (1, 2.1, \"Haa ya Na\") # Tuple\n",
    "info = ['IT', 'CSE']\n",
    "print(info)"
   ]
  },
  {
   "cell_type": "code",
   "execution_count": 19,
   "id": "b18983d2",
   "metadata": {},
   "outputs": [
    {
     "name": "stdout",
     "output_type": "stream",
     "text": [
      "['IT', 'CSE', '3C']\n",
      "['IT', '2B', 'CSE', '3C']\n"
     ]
    }
   ],
   "source": [
    "#append() -> puts value at the last position of the list\n",
    "info.append('3C')\n",
    "print(info)\n",
    "#insert() -> puts value at the wanted position/index of the list\n",
    "info.insert(1, '2B')\n",
    "print(info)"
   ]
  },
  {
   "cell_type": "code",
   "execution_count": 21,
   "id": "d8331435",
   "metadata": {},
   "outputs": [
    {
     "name": "stdout",
     "output_type": "stream",
     "text": [
      "['We', 'are', 'here!']\n",
      "['IT', '2B', 'CSE', '3C', 'We', 'are', 'here!']\n"
     ]
    }
   ],
   "source": [
    "list = ['We', 'are', 'here!']\n",
    "print(list)\n",
    "info.extend(list)\n",
    "print(info)"
   ]
  },
  {
   "cell_type": "code",
   "execution_count": 35,
   "id": "c9b573cd",
   "metadata": {},
   "outputs": [
    {
     "name": "stdout",
     "output_type": "stream",
     "text": [
      "[2, 4, 6, 8, 10]\n",
      "6\n",
      "[2, 4, 8, 10]\n",
      "[2, 8, 10]\n",
      "[8, 10]\n",
      "[]\n"
     ]
    }
   ],
   "source": [
    "# Deleting elements from a list\n",
    "list2 = [2, 4, 6, 8, 10, 12]\n",
    "\n",
    "# pop()\n",
    "list2.pop() # -> without argument it's going to remove last element at end index\n",
    "print(list2)\n",
    "print(list2.pop(2)) # -> remove element at index 2\n",
    "print(list2)\n",
    "\n",
    "# remove()\n",
    "list2.remove(4) # -> removes that particular element\n",
    "print(list2)\n",
    "\n",
    "# del()\n",
    "del list2[0] # -> it deletes the element at oth index\n",
    "print(list2)\n",
    "\n",
    "del list2[0:2] # -> we can use slicing here, with del\n",
    "print(list2)"
   ]
  },
  {
   "cell_type": "code",
   "execution_count": 40,
   "id": "2c4842d2",
   "metadata": {},
   "outputs": [
    {
     "name": "stdout",
     "output_type": "stream",
     "text": [
      "[3, 6, 9, 12, 15, 18, 3, 6, 9, 12, 15, 18]\n",
      "[3, 6, 9, 12, 15, 18, 3, 6, 9, 12, 15, 18, 3, 6, 9, 12, 15, 18, 3, 6, 9, 12, 15, 18, 3, 6, 9, 12, 15, 18, 3, 6, 9, 12, 15, 18]\n"
     ]
    }
   ],
   "source": [
    "list3 = [3, 6, 9, 12, 15, 18]\n",
    "#list3 + 4 # can only concatenate(join) list (not \"int\") to list\n",
    "list3 = list3 + list3\n",
    "print(list3)\n",
    "\n",
    "list3 = list3 * 3 # (list3 + list3 + list3)\n",
    "print(list3)"
   ]
  },
  {
   "cell_type": "code",
   "execution_count": 44,
   "id": "e5a0da6a",
   "metadata": {},
   "outputs": [
    {
     "name": "stdout",
     "output_type": "stream",
     "text": [
      "[4, 8, 12, 16, 16, 20, 24]\n",
      "2\n",
      "[4, 8, 12, 16, 20, 24]\n"
     ]
    }
   ],
   "source": [
    "list4 = [20, 8 , 16, 24, 4, 12, 16]\n",
    "list4.sort() # -> it sorts the elements in accending order\n",
    "print(list4)\n",
    "print(list4.count(16))\n",
    "list4.remove(16)\n",
    "print(list4)"
   ]
  },
  {
   "cell_type": "code",
   "execution_count": 51,
   "id": "55d6b3fc",
   "metadata": {},
   "outputs": [
    {
     "name": "stdout",
     "output_type": "stream",
     "text": [
      "True\n",
      "[30, 25, 20, 15, 10, 5]\n",
      "False\n",
      "[5, 10, 15, 20, 25, 30]\n"
     ]
    }
   ],
   "source": [
    "list5 = [30, 25, 20, 39, 15, 10, 5]\n",
    "print(39 in list5) # -> to check if the element is present in the list or not\n",
    "list5.pop(list5.index(39)) # list5.index(39) -> it will return the index/position of 39 in the list\n",
    "print(list5)\n",
    "print(39 in list5)\n",
    "# list5.sort()\n",
    "list5.reverse()\n",
    "print(list5)"
   ]
  },
  {
   "cell_type": "code",
   "execution_count": null,
   "id": "8dd88195",
   "metadata": {},
   "outputs": [],
   "source": []
  }
 ],
 "metadata": {
  "kernelspec": {
   "display_name": "Python 3 (ipykernel)",
   "language": "python",
   "name": "python3"
  },
  "language_info": {
   "codemirror_mode": {
    "name": "ipython",
    "version": 3
   },
   "file_extension": ".py",
   "mimetype": "text/x-python",
   "name": "python",
   "nbconvert_exporter": "python",
   "pygments_lexer": "ipython3",
   "version": "3.10.9"
  }
 },
 "nbformat": 4,
 "nbformat_minor": 5
}
