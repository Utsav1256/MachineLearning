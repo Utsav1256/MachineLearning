{
 "cells": [
  {
   "cell_type": "markdown",
   "id": "c14a36b8",
   "metadata": {},
   "source": [
    "## Intro to Jupyter\n",
    "#Standard datatypes:\n",
    "\n",
    "Numbers,\n",
    "String,\n",
    "List,\n",
    "Tuple,\n",
    "Dictionary\n",
    "#Numbers -> int, long, float, complex\n",
    "#Srings -> a countigous set of characters\n",
    "#List -> basically Arrays\n",
    "\n"
   ]
  },
  {
   "cell_type": "code",
   "execution_count": 1,
   "id": "4940ed31",
   "metadata": {},
   "outputs": [
    {
     "name": "stdout",
     "output_type": "stream",
     "text": [
      "<class 'int'>\n",
      "20  5\n",
      "(36+16j)\n"
     ]
    }
   ],
   "source": [
    "x = 20\n",
    "print(type(x))\n",
    "y = 5\n",
    "print(x, end = \"  \")\n",
    "print(y)\n",
    "y = (36 + 16j)\n",
    "print(y)\n"
   ]
  },
  {
   "cell_type": "code",
   "execution_count": 2,
   "id": "d9646f7e",
   "metadata": {},
   "outputs": [
    {
     "name": "stdout",
     "output_type": "stream",
     "text": [
      "abc\n",
      "<class 'str'>\n"
     ]
    }
   ],
   "source": [
    "x = \"abc\"\n",
    "print(x)\n",
    "print(type(x))# we can check type of any variable using type()"
   ]
  },
  {
   "cell_type": "code",
   "execution_count": 3,
   "id": "73783112",
   "metadata": {},
   "outputs": [
    {
     "name": "stdout",
     "output_type": "stream",
     "text": [
      "27\n"
     ]
    }
   ],
   "source": [
    "# Basics Operators\n",
    "\n",
    "x, y = 20, 7\n",
    "z = x + y\n",
    "print(z) # order of execution of cell matters"
   ]
  },
  {
   "cell_type": "code",
   "execution_count": 4,
   "id": "4996cb52",
   "metadata": {},
   "outputs": [
    {
     "name": "stdout",
     "output_type": "stream",
     "text": [
      "20\n",
      "7\n",
      "27\n",
      "13\n",
      "140\n",
      "2.857142857142857\n",
      "2\n",
      "1280000000\n",
      "6\n"
     ]
    }
   ],
   "source": [
    "print(x)\n",
    "print(y)\n",
    "print(z)\n",
    "print(x-y)\n",
    "print(x*y)\n",
    "print(x/y)\n",
    "print(x//y) # int/int -> int\n",
    "print(x**y) # ** -> x to the power y\n",
    "print(x%y)"
   ]
  },
  {
   "cell_type": "code",
   "execution_count": 5,
   "id": "17a2a3dc",
   "metadata": {},
   "outputs": [
    {
     "name": "stdout",
     "output_type": "stream",
     "text": [
      "this is a string\n",
      "16\n",
      "<class 'str'>\n",
      "i\n",
      "h\n",
      "t\n",
      "g\n",
      "n\n",
      "Hello is any one present in meeting?\n",
      "Are you sleepin?\n"
     ]
    }
   ],
   "source": [
    "# Strings Properties\n",
    "p = \"this is a string\"\n",
    "print(p)\n",
    "print(len(p))\n",
    "print(type(p))\n",
    "print(p[5])\n",
    "print(p[1])\n",
    "print(p[0])\n",
    "print(p[-1])\n",
    "print(p[-2])\n",
    "p = \"\"\"Hello is any one present in meeting?\n",
    "Are you sleepin?\"\"\"\n",
    "print(p)"
   ]
  },
  {
   "cell_type": "code",
   "execution_count": 6,
   "id": "a9642546",
   "metadata": {},
   "outputs": [
    {
     "name": "stdout",
     "output_type": "stream",
     "text": [
      "Hello World\n"
     ]
    }
   ],
   "source": [
    "# Strings are immutable -> we cant't change character of a string\n",
    "# p[2] = '4' # invalid\n",
    "p = \"Hello World\" # valid # we are not changint the previous string here, we are just assigning a new string to p\n",
    "print(p)"
   ]
  },
  {
   "cell_type": "code",
   "execution_count": 7,
   "id": "956b0214",
   "metadata": {},
   "outputs": [
    {
     "name": "stdout",
     "output_type": "stream",
     "text": [
      "Hello World Micky\n"
     ]
    }
   ],
   "source": [
    "q = \" Micky\"\n",
    "r = p + q # concatenating two strings\n",
    "print(r)\n",
    "# s = q + 3 # we can't concatenate two int to string"
   ]
  },
  {
   "cell_type": "code",
   "execution_count": 8,
   "id": "41656967",
   "metadata": {},
   "outputs": [
    {
     "name": "stdout",
     "output_type": "stream",
     "text": [
      "<class 'str'>\n",
      "<class 'str'>\n"
     ]
    }
   ],
   "source": [
    "# chr does not exists in python, only str\n",
    "print(type('2'))\n",
    "print(type('a'))"
   ]
  },
  {
   "cell_type": "code",
   "execution_count": 9,
   "id": "c643024e",
   "metadata": {},
   "outputs": [
    {
     "name": "stdout",
     "output_type": "stream",
     "text": [
      "Abcd\n",
      "ABCD\n",
      "Abcd\n",
      "ABCD\n",
      "False\n",
      "True\n",
      "False\n",
      "True\n"
     ]
    }
   ],
   "source": [
    "# few functions for strings\n",
    "p = \"Abcd\"\n",
    "# upper()\n",
    "p.upper()\n",
    "print(p)\n",
    "b = p.upper()\n",
    "print(b)\n",
    "print(p)\n",
    "p = p.upper()\n",
    "print(p)\n",
    "# to check a character in a string, if that is present or not \n",
    "print('x' in p)\n",
    "print('C' in p)\n",
    "print(' ' in p)\n",
    "# lower()\n",
    "p = p.lower()\n",
    "print('c' in p)"
   ]
  },
  {
   "cell_type": "code",
   "execution_count": 10,
   "id": "890a014c",
   "metadata": {},
   "outputs": [
    {
     "name": "stdout",
     "output_type": "stream",
     "text": [
      " uvwx \n",
      "uvwx\n",
      "False\n",
      " uvwx \n",
      "uvwx\n",
      "True\n",
      "False\n"
     ]
    }
   ],
   "source": [
    "# strip() -> it deletes start and end spaces\n",
    "q = ' uvwx '\n",
    "print(q)\n",
    "print(q.strip())\n",
    "# isalpha() -> it basically checks if only alphabet is present or not\n",
    "print(q.isalpha())\n",
    "print(q)\n",
    "q = q.strip()\n",
    "print(q)\n",
    "print(q.isalpha())\n",
    "#isdigit()\n",
    "print(q.isdigit())"
   ]
  },
  {
   "cell_type": "code",
   "execution_count": 11,
   "id": "327235ed",
   "metadata": {},
   "outputs": [
    {
     "name": "stdout",
     "output_type": "stream",
     "text": [
      "Donkey\n",
      "Monkey\n"
     ]
    }
   ],
   "source": [
    "# replace() -> Replaces an element of a string\n",
    "j = \"Donkey\"\n",
    "print(j)\n",
    "j = j.replace('D', \"M\")\n",
    "print(j)"
   ]
  },
  {
   "cell_type": "code",
   "execution_count": 13,
   "id": "07d6f15a",
   "metadata": {
    "scrolled": true
   },
   "outputs": [
    {
     "name": "stdout",
     "output_type": "stream",
     "text": [
      "num\n",
      "num\n",
      "5\n",
      "5\n",
      "<class 'str'>\n",
      "5\n",
      "5\n",
      "<class 'int'>\n",
      "5\n",
      "5.0\n",
      "<class 'float'>\n"
     ]
    }
   ],
   "source": [
    "# User Input\n",
    "u = input()\n",
    "print(u)\n",
    "u = input()\n",
    "print(u)\n",
    "print(type(u))\n",
    "u = int(input())\n",
    "print(u)\n",
    "print(type(u))\n",
    "u = float(input())\n",
    "print(u)\n",
    "print(type(u))"
   ]
  },
  {
   "cell_type": "code",
   "execution_count": 14,
   "id": "d1e51dee",
   "metadata": {},
   "outputs": [
    {
     "name": "stdout",
     "output_type": "stream",
     "text": [
      "b\n",
      "bc\n",
      "ef\n",
      "efg\n",
      "abc\n",
      "abcdefg\n"
     ]
    }
   ],
   "source": [
    "# Strint slicing -> to get the subset of a String\n",
    "# p[x:y] -> it will give chr from x to y-1\n",
    "p = \"abcdefg\"\n",
    "print(p[1])\n",
    "print(p[1:3])\n",
    "print(p[-3:-1])\n",
    "print(p[4:])\n",
    "print(p[:3])\n",
    "print(p[:])"
   ]
  },
  {
   "cell_type": "code",
   "execution_count": 15,
   "id": "918352f4",
   "metadata": {},
   "outputs": [
    {
     "name": "stdout",
     "output_type": "stream",
     "text": [
      "adg\n",
      "abcdefg\n",
      "aceg\n",
      "ac\n",
      "gec\n"
     ]
    }
   ],
   "source": [
    "#stride\n",
    "print(p[::3])\n",
    "print(p[::1])\n",
    "print(p[0::2])\n",
    "print(p[0:3:2])\n",
    "print(p[-1:-7:-2])"
   ]
  },
  {
   "cell_type": "code",
   "execution_count": 16,
   "id": "a429562d",
   "metadata": {},
   "outputs": [
    {
     "name": "stdout",
     "output_type": "stream",
     "text": [
      "<class 'tuple'>\n",
      "1\n",
      "(1, 2)\n",
      "13.5\n"
     ]
    }
   ],
   "source": [
    "#Tuples\n",
    "#Diff. b/w tuples & lists : -\n",
    " # tuples cannot be changed unlike lists\n",
    " # tuples use parentheses whereas lists use square bracket\n",
    "t =  (1, 2, 3)\n",
    "print(type(t))\n",
    "print(t[0])\n",
    "# t[1] = 5 -> tuples are immutable\n",
    "print(t[0:2]) # it supports slicing\n",
    "# tuples can store diff. types of data\n",
    "t = (1, \"67ds\", 13.5)\n",
    "print(t[2])"
   ]
  },
  {
   "cell_type": "code",
   "execution_count": 17,
   "id": "fad2b845",
   "metadata": {},
   "outputs": [
    {
     "name": "stdout",
     "output_type": "stream",
     "text": [
      "(0, 3, 'a', 4)\n",
      "(0, 3, 0, 3, 0, 3)\n",
      "(0, 3)\n",
      "True\n",
      "False\n",
      "True\n"
     ]
    }
   ],
   "source": [
    "# Operations on tuples\n",
    "t = (0, 3)\n",
    "k = (\"a\", 4)\n",
    "print(t + k) # concatenating tiples\n",
    "print(t * 3)\n",
    "print(t)\n",
    "print(3 in t)\n",
    "print(6 in k)\n",
    "print('a' in k)"
   ]
  },
  {
   "cell_type": "code",
   "execution_count": 18,
   "id": "a2f30887",
   "metadata": {},
   "outputs": [
    {
     "name": "stdout",
     "output_type": "stream",
     "text": [
      "<class 'bool'>\n",
      "<class 'bool'>\n",
      "True\n",
      "False\n",
      "True\n",
      "False\n",
      "False\n",
      "True\n"
     ]
    }
   ],
   "source": [
    "# Conditionals & loops\n",
    "#boolean datatype\n",
    "# x = false\n",
    "x = False\n",
    "y = True\n",
    "print(type(x))\n",
    "print(type(y))\n",
    "\n",
    "# conditionals\n",
    "x = 70\n",
    "y = 50\n",
    "print(x>y)\n",
    "print(x<y)\n",
    "print(x>=y)\n",
    "print(x<=y)\n",
    "print(x==y)\n",
    "print(x!=y)"
   ]
  },
  {
   "cell_type": "code",
   "execution_count": 19,
   "id": "0296d8d6",
   "metadata": {},
   "outputs": [
    {
     "name": "stdout",
     "output_type": "stream",
     "text": [
      "True\n",
      "False\n"
     ]
    }
   ],
   "source": [
    "# logical operators\n",
    "z = 60\n",
    "print(x>y and x>z)\n",
    "print(z<y and z<x)"
   ]
  },
  {
   "cell_type": "code",
   "execution_count": 20,
   "id": "7138c87b",
   "metadata": {},
   "outputs": [
    {
     "name": "stdout",
     "output_type": "stream",
     "text": [
      "90\n",
      "Hello Mello\n",
      "90\n"
     ]
    }
   ],
   "source": [
    "# if else\n",
    "x, y, z = 80, 90, 70\n",
    "if x>y:\n",
    " print(x)\n",
    "else:\n",
    " print(y)\n",
    " print(\"Hello Mello\")\n",
    "    \n",
    "if x>=y and x>=z:\n",
    "    print(x)\n",
    "elif y>=z and y>=x:\n",
    "    print(y)\n",
    "else:\n",
    "    print(z)"
   ]
  },
  {
   "cell_type": "code",
   "execution_count": 21,
   "id": "a55a5c7d",
   "metadata": {},
   "outputs": [
    {
     "name": "stdout",
     "output_type": "stream",
     "text": [
      "5\n",
      "0\n",
      "jumbo\n",
      "1\n",
      "jumbo\n",
      "2\n",
      "jumbo\n",
      "3\n",
      "jumbo\n",
      "4\n",
      "jumbo\n",
      "5\n",
      "jumbo\n"
     ]
    }
   ],
   "source": [
    "# while loop\n",
    "n = int(input())\n",
    "i = 0\n",
    "while i<=n:\n",
    "    print(i)\n",
    "    i = i+1\n",
    "    print(\"jumbo\")"
   ]
  },
  {
   "cell_type": "code",
   "execution_count": 22,
   "id": "d478ec66",
   "metadata": {},
   "outputs": [
    {
     "name": "stdout",
     "output_type": "stream",
     "text": [
      "1\n",
      "2\n",
      "3\n",
      "4\n",
      "3\n",
      "1\n",
      "2\n",
      "3\n"
     ]
    }
   ],
   "source": [
    "# for loop and range\n",
    "for i in range(1, 5):\n",
    "    print(i)\n",
    "n = int(input())\n",
    "for i in range(1, n+1):\n",
    "    print(i)\n"
   ]
  },
  {
   "cell_type": "code",
   "execution_count": 24,
   "id": "3af5126b",
   "metadata": {},
   "outputs": [
    {
     "name": "stdout",
     "output_type": "stream",
     "text": [
      "3\n",
      "0\n",
      "1\n",
      "2\n",
      "3\n"
     ]
    }
   ],
   "source": [
    "n = int(input())\n",
    "for i in range(n+1): # by default range starts from 0\n",
    "    print(i)"
   ]
  },
  {
   "cell_type": "code",
   "execution_count": 26,
   "id": "a4e63ad4",
   "metadata": {},
   "outputs": [
    {
     "name": "stdout",
     "output_type": "stream",
     "text": [
      "1\n",
      "4\n",
      "7\n"
     ]
    }
   ],
   "source": [
    "# range(start, end, step)\n",
    "# start -> by default -> 0\n",
    "# end -> at stop - 1\n",
    "# step -> by default -> 1\n",
    "for i in range(1, 10, 3):\n",
    "    print(i)"
   ]
  },
  {
   "cell_type": "code",
   "execution_count": 32,
   "id": "196e3f77",
   "metadata": {},
   "outputs": [
    {
     "name": "stdout",
     "output_type": "stream",
     "text": [
      "100\n",
      "Not Prime\n"
     ]
    }
   ],
   "source": [
    "# prime no.\n",
    "n = int(input())\n",
    "prime = True\n",
    "for i in range(2, n):\n",
    "    if(n%i == 0):\n",
    "        prime = False\n",
    "        break\n",
    "if prime:\n",
    "    print(\"Prime\")\n",
    "else:\n",
    "    print(\"Not Prime\")"
   ]
  },
  {
   "cell_type": "code",
   "execution_count": 36,
   "id": "0ec85b26",
   "metadata": {},
   "outputs": [
    {
     "name": "stdout",
     "output_type": "stream",
     "text": [
      "a b c d e f g 2 4 6 8 10 "
     ]
    }
   ],
   "source": [
    "# Fast iterations\n",
    "l = \"abcdefg\"\n",
    "for c in l:\n",
    "    print(c, end= \" \")\n",
    "w = (2, 4, 6, 8, 10)\n",
    "for z in w:\n",
    "    print(z, end= \" \")\n"
   ]
  },
  {
   "cell_type": "code",
   "execution_count": 52,
   "id": "87ca2e19",
   "metadata": {},
   "outputs": [
    {
     "name": "stdout",
     "output_type": "stream",
     "text": [
      "124\n",
      "10000\n",
      "1000\n",
      "88\n",
      "132\n",
      "330\n",
      "36\n",
      "72\n"
     ]
    }
   ],
   "source": [
    "#Function\n",
    "def sum(a, b):\n",
    "    s = a + b\n",
    "    return s\n",
    "o = sum(100, 24)\n",
    "print(o)\n",
    "\n",
    "def power(x, y = 3):\n",
    "    return x**y\n",
    "print(power(100, 2))\n",
    "print(power(10))\n",
    "\n",
    "def multi(x, y, z):\n",
    "    return x * y * z\n",
    "print(multi(11, 2, 4))\n",
    "def multi(x, y, z = 6):\n",
    "    return x * y * z\n",
    "print(multi(11, 2))\n",
    "def multi(x, y = 2, z = 6):\n",
    "    return x * y * z\n",
    "print(multi(11, 5))\n",
    "\n",
    "\n",
    "def multi(x = 3, y = 2, z = 6):\n",
    "    return x * y * z\n",
    "print(multi())\n",
    "# def multi(x, y, z):\n",
    "#     return x * y * z\n",
    "# print(multi(1 , 2, 3))\n",
    "print(multi(y=4))# it is same as print(\"a\", end=\" \")\n",
    "\n"
   ]
  }
 ],
 "metadata": {
  "kernelspec": {
   "display_name": "Python 3 (ipykernel)",
   "language": "python",
   "name": "python3"
  },
  "language_info": {
   "codemirror_mode": {
    "name": "ipython",
    "version": 3
   },
   "file_extension": ".py",
   "mimetype": "text/x-python",
   "name": "python",
   "nbconvert_exporter": "python",
   "pygments_lexer": "ipython3",
   "version": "3.10.9"
  }
 },
 "nbformat": 4,
 "nbformat_minor": 5
}
