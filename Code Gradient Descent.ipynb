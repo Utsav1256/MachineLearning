{
 "cells": [
  {
   "cell_type": "markdown",
   "id": "a636d748",
   "metadata": {},
   "source": [
    "# Code Gradient Descent"
   ]
  },
  {
   "cell_type": "code",
   "execution_count": 1,
   "id": "8f8e536d",
   "metadata": {},
   "outputs": [],
   "source": [
    "import numpy as np"
   ]
  },
  {
   "cell_type": "code",
   "execution_count": 2,
   "id": "259abe7b",
   "metadata": {},
   "outputs": [
    {
     "data": {
      "text/plain": [
       "(100, 2)"
      ]
     },
     "execution_count": 2,
     "metadata": {},
     "output_type": "execute_result"
    }
   ],
   "source": [
    "data = np.loadtxt(\"Datasets/data1.csv\", delimiter=',')\n",
    "data.shape"
   ]
  },
  {
   "cell_type": "code",
   "execution_count": 3,
   "id": "6b8ae231",
   "metadata": {},
   "outputs": [],
   "source": [
    "def cost(data_points, m, c):\n",
    "    total_cost = 0\n",
    "    M = len(data_points)\n",
    "    for i in range(M):\n",
    "        X = data_points[i, 0]\n",
    "        Y = data_points[i, 1]\n",
    "        total_cost += (1/M)*((Y-(m*X+c))**2)\n",
    "    return total_cost"
   ]
  },
  {
   "cell_type": "code",
   "execution_count": 4,
   "id": "752c1751",
   "metadata": {},
   "outputs": [],
   "source": [
    "def single_step_gradient(data_points, learning_rate, m, c):\n",
    "    m_slope = 0\n",
    "    c_slope = 0\n",
    "    M = len(data_points)\n",
    "    for i in range(M):\n",
    "        X = data_points[i, 0]\n",
    "        Y =  data_points[i , 1]\n",
    "        m_slope += (-2/M)*(Y -(m * X + c)) * X\n",
    "        c_slope += (-2/M)*(Y - (m * X + c))\n",
    "    new_m = m -(learning_rate * m_slope)\n",
    "    new_c = c -(learning_rate * c_slope)\n",
    "    return new_m, new_c"
   ]
  },
  {
   "cell_type": "code",
   "execution_count": 5,
   "id": "b58adf1a",
   "metadata": {},
   "outputs": [],
   "source": [
    "def gradient_descent(data_points, learning_rate, number_of_iteration):\n",
    "    # starting with random values of m & c\n",
    "    m = 0\n",
    "    c = 0\n",
    "    \n",
    "    for i in range(number_of_iteration):\n",
    "        #updating m & c value number_of_iteration times\n",
    "        \n",
    "        m, c = single_step_gradient(data_points, learning_rate, m, c)\n",
    "        print(i, \"cost: \", cost(data_points, m, c))\n",
    "    \n",
    "    return m, c"
   ]
  },
  {
   "cell_type": "code",
   "execution_count": 12,
   "id": "888e7968",
   "metadata": {},
   "outputs": [],
   "source": [
    "def run():\n",
    "    data = np.loadtxt(\"Datasets/data1.csv\", delimiter=',') #loading the data\n",
    "#     print(data)\n",
    "    learning_rate = 0.0001\n",
    "    # how much alpha do you want to use while you are learning in gradient descent\n",
    "    \n",
    "    number_of_iteration = 100 \n",
    "    # how many times do you want to learn gradient descent, before you say yhis is something that I am happy with.\n",
    "    \n",
    "    m,c = gradient_descent(data, learning_rate, number_of_iteration)\n",
    "    # the gradient descent fn. will give us the value of m and c\n",
    "    \n",
    "    print(m, c )"
   ]
  },
  {
   "cell_type": "code",
   "execution_count": 13,
   "id": "d31733e6",
   "metadata": {},
   "outputs": [
    {
     "name": "stdout",
     "output_type": "stream",
     "text": [
      "0 cost:  1484.5865574086483\n",
      "1 cost:  457.8542575737672\n",
      "2 cost:  199.5099857255389\n",
      "3 cost:  134.50591058200533\n",
      "4 cost:  118.14969342239951\n",
      "5 cost:  114.03414906038147\n",
      "6 cost:  112.99857731713661\n",
      "7 cost:  112.73798187568467\n",
      "8 cost:  112.67238435909104\n",
      "9 cost:  112.65585181499749\n",
      "10 cost:  112.65166489759584\n",
      "11 cost:  112.65058436150112\n",
      "12 cost:  112.65028544701502\n",
      "13 cost:  112.65018320293967\n",
      "14 cost:  112.65013044507197\n",
      "15 cost:  112.65009013922885\n",
      "16 cost:  112.65005296694632\n",
      "17 cost:  112.65001658353178\n",
      "18 cost:  112.64998039901862\n",
      "19 cost:  112.64994426496071\n",
      "20 cost:  112.6499081440062\n",
      "21 cost:  112.64987202675678\n",
      "22 cost:  112.6498359108476\n",
      "23 cost:  112.64979979568365\n",
      "24 cost:  112.64976368111523\n",
      "25 cost:  112.64972756710468\n",
      "26 cost:  112.6496914536424\n",
      "27 cost:  112.64965534072608\n",
      "28 cost:  112.64961922835515\n",
      "29 cost:  112.6495831165294\n",
      "30 cost:  112.64954700524869\n",
      "31 cost:  112.64951089451318\n",
      "32 cost:  112.64947478432278\n",
      "33 cost:  112.64943867467743\n",
      "34 cost:  112.64940256557729\n",
      "35 cost:  112.64936645702217\n",
      "36 cost:  112.64933034901205\n",
      "37 cost:  112.64929424154703\n",
      "38 cost:  112.64925813462712\n",
      "39 cost:  112.64922202825217\n",
      "40 cost:  112.64918592242236\n",
      "41 cost:  112.64914981713753\n",
      "42 cost:  112.64911371239779\n",
      "43 cost:  112.64907760820296\n",
      "44 cost:  112.64904150455324\n",
      "45 cost:  112.64900540144849\n",
      "46 cost:  112.64896929888867\n",
      "47 cost:  112.64893319687388\n",
      "48 cost:  112.64889709540411\n",
      "49 cost:  112.6488609944792\n",
      "50 cost:  112.64882489409936\n",
      "51 cost:  112.64878879426433\n",
      "52 cost:  112.64875269497435\n",
      "53 cost:  112.64871659622932\n",
      "54 cost:  112.64868049802914\n",
      "55 cost:  112.64864440037398\n",
      "56 cost:  112.64860830326366\n",
      "57 cost:  112.64857220669825\n",
      "58 cost:  112.64853611067775\n",
      "59 cost:  112.64850001520212\n",
      "60 cost:  112.6484639202713\n",
      "61 cost:  112.64842782588545\n",
      "62 cost:  112.64839173204442\n",
      "63 cost:  112.6483556387483\n",
      "64 cost:  112.64831954599693\n",
      "65 cost:  112.64828345379044\n",
      "66 cost:  112.64824736212877\n",
      "67 cost:  112.64821127101193\n",
      "68 cost:  112.64817518043985\n",
      "69 cost:  112.64813909041263\n",
      "70 cost:  112.64810300093018\n",
      "71 cost:  112.64806691199259\n",
      "72 cost:  112.64803082359968\n",
      "73 cost:  112.64799473575162\n",
      "74 cost:  112.64795864844827\n",
      "75 cost:  112.64792256168967\n",
      "76 cost:  112.64788647547574\n",
      "77 cost:  112.6478503898067\n",
      "78 cost:  112.64781430468224\n",
      "79 cost:  112.64777822010265\n",
      "80 cost:  112.64774213606768\n",
      "81 cost:  112.64770605257743\n",
      "82 cost:  112.64766996963188\n",
      "83 cost:  112.64763388723105\n",
      "84 cost:  112.64759780537484\n",
      "85 cost:  112.64756172406332\n",
      "86 cost:  112.6475256432965\n",
      "87 cost:  112.64748956307432\n",
      "88 cost:  112.64745348339676\n",
      "89 cost:  112.64741740426386\n",
      "90 cost:  112.6473813256756\n",
      "91 cost:  112.64734524763196\n",
      "92 cost:  112.64730917013293\n",
      "93 cost:  112.6472730931785\n",
      "94 cost:  112.64723701676861\n",
      "95 cost:  112.64720094090339\n",
      "96 cost:  112.64716486558268\n",
      "97 cost:  112.64712879080662\n",
      "98 cost:  112.64709271657509\n",
      "99 cost:  112.64705664288806\n",
      "1.4788027175308358 0.03507497059234177\n"
     ]
    }
   ],
   "source": [
    "run()"
   ]
  },
  {
   "cell_type": "code",
   "execution_count": null,
   "id": "e3d2c752",
   "metadata": {},
   "outputs": [],
   "source": []
  }
 ],
 "metadata": {
  "kernelspec": {
   "display_name": "Python 3 (ipykernel)",
   "language": "python",
   "name": "python3"
  },
  "language_info": {
   "codemirror_mode": {
    "name": "ipython",
    "version": 3
   },
   "file_extension": ".py",
   "mimetype": "text/x-python",
   "name": "python",
   "nbconvert_exporter": "python",
   "pygments_lexer": "ipython3",
   "version": "3.10.9"
  }
 },
 "nbformat": 4,
 "nbformat_minor": 5
}
