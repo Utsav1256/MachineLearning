{
 "cells": [
  {
   "cell_type": "markdown",
   "id": "348dd2b5",
   "metadata": {},
   "source": [
    "# Dictionaries"
   ]
  },
  {
   "cell_type": "code",
   "execution_count": 1,
   "id": "5985a90f",
   "metadata": {},
   "outputs": [],
   "source": [
    "# key value pair\n",
    "\n",
    "# in lists index an be any integer\n",
    "# in Dictionaries indeices are called as keys\n",
    "# and key can be anything like Strings, integers, float.\n"
   ]
  },
  {
   "cell_type": "code",
   "execution_count": 3,
   "id": "5d2e27a1",
   "metadata": {},
   "outputs": [
    {
     "name": "stdout",
     "output_type": "stream",
     "text": [
      "<class 'dict'>\n",
      "{}\n"
     ]
    }
   ],
   "source": [
    "# Creatin a Dictionary\n",
    "dict = {} # curly bracket\n",
    "print(type(dict))\n",
    "print(dict)"
   ]
  },
  {
   "cell_type": "code",
   "execution_count": 4,
   "id": "f084c056",
   "metadata": {},
   "outputs": [
    {
     "name": "stdout",
     "output_type": "stream",
     "text": [
      "{32: 46}\n"
     ]
    }
   ],
   "source": [
    "# Adding element to the dictionary\n",
    "dict[32] = 46\n",
    "print(dict)"
   ]
  },
  {
   "cell_type": "code",
   "execution_count": 20,
   "id": "9587eace",
   "metadata": {},
   "outputs": [
    {
     "name": "stdout",
     "output_type": "stream",
     "text": [
      "{'name': 'Charmender', 'power': 'fire', 'rank': 2}\n"
     ]
    }
   ],
   "source": [
    "pocky = {'name': 'Charmender',\n",
    "'power': 'fire',\n",
    "'rank': 2}\n",
    "print(pocky)\n"
   ]
  },
  {
   "cell_type": "code",
   "execution_count": 21,
   "id": "8c896980",
   "metadata": {},
   "outputs": [
    {
     "name": "stdout",
     "output_type": "stream",
     "text": [
      "Charmender\n",
      "fire\n",
      "2\n"
     ]
    }
   ],
   "source": [
    "# Accessing values fro the dictionary\n",
    "print(pocky['name'])\n",
    "print(pocky['power'])\n",
    "print(pocky['rank'])"
   ]
  },
  {
   "cell_type": "code",
   "execution_count": 22,
   "id": "4c75164e",
   "metadata": {},
   "outputs": [
    {
     "name": "stdout",
     "output_type": "stream",
     "text": [
      "{'name': 'Charmender', 'power': 'fire', 'rank': 1}\n",
      "{'name': 'Charmender', 'power': 'fire', 'rank': 1, 4: 'four'}\n"
     ]
    }
   ],
   "source": [
    "# Putting/inserting an element(key: value) to the  Dictionary\n",
    "pocky['rank'] = 1 # -> if key exists then it will update the value corresponding to that key\n",
    "print(pocky)\n",
    "pocky[4] = \"four\" # if key does not exists then it will insert a new 'key: value'\n",
    "print(pocky)"
   ]
  },
  {
   "cell_type": "code",
   "execution_count": 24,
   "id": "e68eee2c",
   "metadata": {},
   "outputs": [],
   "source": [
    "# Keys of Dictionaries have to be immutable (-> String,int, float, tuple)\n",
    "# pocky[[6, 9]] = \"??\" # as lists are mutable, so we can't take a list as a key."
   ]
  },
  {
   "cell_type": "code",
   "execution_count": null,
   "id": "a83da656",
   "metadata": {},
   "outputs": [],
   "source": []
  }
 ],
 "metadata": {
  "kernelspec": {
   "display_name": "Python 3 (ipykernel)",
   "language": "python",
   "name": "python3"
  },
  "language_info": {
   "codemirror_mode": {
    "name": "ipython",
    "version": 3
   },
   "file_extension": ".py",
   "mimetype": "text/x-python",
   "name": "python",
   "nbconvert_exporter": "python",
   "pygments_lexer": "ipython3",
   "version": "3.10.9"
  }
 },
 "nbformat": 4,
 "nbformat_minor": 5
}
